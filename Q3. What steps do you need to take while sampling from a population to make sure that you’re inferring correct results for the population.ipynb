{
 "cells": [
  {
   "cell_type": "markdown",
   "id": "40fd4f2d",
   "metadata": {},
   "source": [
    "# random with all possible scenarios  in the sample are covered."
   ]
  },
  {
   "cell_type": "markdown",
   "id": "f6446d39",
   "metadata": {},
   "source": [
    "# https://www.investopedia.com/terms/s/simple-random-sample.asp"
   ]
  },
  {
   "cell_type": "markdown",
   "id": "fb9b8abf",
   "metadata": {},
   "source": [
    "# https://towardsdatascience.com/stratified-sampling-you-may-have-been-splitting-your-dataset-all-wrong-8cfdd0d32502"
   ]
  },
  {
   "cell_type": "markdown",
   "id": "d99ba963",
   "metadata": {},
   "source": [
    "# https://www.khanacademy.org/math/statistics-probability/designing-studies/sampling-methods-stats/a/sampling-methods-review"
   ]
  },
  {
   "cell_type": "code",
   "execution_count": null,
   "id": "c8f01a13",
   "metadata": {},
   "outputs": [],
   "source": []
  }
 ],
 "metadata": {
  "kernelspec": {
   "display_name": "Python 3",
   "language": "python",
   "name": "python3"
  },
  "language_info": {
   "codemirror_mode": {
    "name": "ipython",
    "version": 3
   },
   "file_extension": ".py",
   "mimetype": "text/x-python",
   "name": "python",
   "nbconvert_exporter": "python",
   "pygments_lexer": "ipython3",
   "version": "3.8.8"
  }
 },
 "nbformat": 4,
 "nbformat_minor": 5
}
