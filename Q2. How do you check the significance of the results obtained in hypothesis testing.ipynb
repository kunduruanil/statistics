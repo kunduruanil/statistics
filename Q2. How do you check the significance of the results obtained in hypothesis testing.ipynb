{
 "cells": [
  {
   "cell_type": "markdown",
   "id": "af005d90",
   "metadata": {},
   "source": [
    "# based on the significance level (0.05)"
   ]
  },
  {
   "cell_type": "code",
   "execution_count": 1,
   "id": "6d5f0f12",
   "metadata": {},
   "outputs": [
    {
     "data": {
      "text/html": [
       "<img src=\"https://miro.medium.com/max/530/1*fNUggZ5wFBBhrxW6ZwYKLg.png\"/>"
      ],
      "text/plain": [
       "<IPython.core.display.Image object>"
      ]
     },
     "execution_count": 1,
     "metadata": {},
     "output_type": "execute_result"
    }
   ],
   "source": [
    "from IPython.display import Image\n",
    "Image(url='https://miro.medium.com/max/530/1*fNUggZ5wFBBhrxW6ZwYKLg.png')"
   ]
  },
  {
   "cell_type": "code",
   "execution_count": null,
   "id": "ad404bfa",
   "metadata": {},
   "outputs": [],
   "source": []
  }
 ],
 "metadata": {
  "kernelspec": {
   "display_name": "Python 3",
   "language": "python",
   "name": "python3"
  },
  "language_info": {
   "codemirror_mode": {
    "name": "ipython",
    "version": 3
   },
   "file_extension": ".py",
   "mimetype": "text/x-python",
   "name": "python",
   "nbconvert_exporter": "python",
   "pygments_lexer": "ipython3",
   "version": "3.8.8"
  }
 },
 "nbformat": 4,
 "nbformat_minor": 5
}
