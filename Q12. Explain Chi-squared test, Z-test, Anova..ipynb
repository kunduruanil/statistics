{
 "cells": [
  {
   "cell_type": "markdown",
   "id": "90d7c96f",
   "metadata": {},
   "source": [
    "# Z- test is we have one continues variable and if we know population std "
   ]
  },
  {
   "cell_type": "markdown",
   "id": "8bcf57c4",
   "metadata": {},
   "source": [
    "# if we have  2 or more categarical variables we use chi-squared"
   ]
  },
  {
   "cell_type": "markdown",
   "id": "503f7612",
   "metadata": {},
   "source": [
    "# if we have  2 or more continues varibles we use Anova test"
   ]
  },
  {
   "cell_type": "code",
   "execution_count": null,
   "id": "92bdcbe4",
   "metadata": {},
   "outputs": [],
   "source": []
  }
 ],
 "metadata": {
  "kernelspec": {
   "display_name": "Python 3",
   "language": "python",
   "name": "python3"
  },
  "language_info": {
   "codemirror_mode": {
    "name": "ipython",
    "version": 3
   },
   "file_extension": ".py",
   "mimetype": "text/x-python",
   "name": "python",
   "nbconvert_exporter": "python",
   "pygments_lexer": "ipython3",
   "version": "3.8.8"
  }
 },
 "nbformat": 4,
 "nbformat_minor": 5
}
