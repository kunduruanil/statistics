{
 "cells": [
  {
   "cell_type": "code",
   "execution_count": 6,
   "id": "e7699cd0",
   "metadata": {},
   "outputs": [
    {
     "data": {
      "text/html": [
       "<img src=\"https://d33wubrfki0l68.cloudfront.net/61710dface4b4dcef2ba78dba1a38d7d509be9cd/48d1a/img/hypothesis_testing/hypothesis_testing_flow_mean.png\" width=\"1500\" height=\"5000\"/>"
      ],
      "text/plain": [
       "<IPython.core.display.Image object>"
      ]
     },
     "execution_count": 6,
     "metadata": {},
     "output_type": "execute_result"
    }
   ],
   "source": [
    "from IPython.display import Image\n",
    "Image(url='https://d33wubrfki0l68.cloudfront.net/61710dface4b4dcef2ba78dba1a38d7d509be9cd/48d1a/img/hypothesis_testing/hypothesis_testing_flow_mean.png',width=1500,height=5000)"
   ]
  },
  {
   "cell_type": "markdown",
   "id": "1ed25a50",
   "metadata": {},
   "source": [
    "# one sample z test "
   ]
  },
  {
   "cell_type": "markdown",
   "id": "ab69bfd9",
   "metadata": {},
   "source": [
    "# If we have a sample size of less than 30 and do not know the population variance, then we must use a t-test."
   ]
  },
  {
   "cell_type": "markdown",
   "id": "bb7d802d",
   "metadata": {},
   "source": [
    "# sales of company of last 30 months and test next month sales is more than the average of the last 30 days or not.\n",
    "# h0 <= mean of slaes of last 30 months\n",
    "# h1 > mean of slaes of last 30 months"
   ]
  },
  {
   "cell_type": "markdown",
   "id": "2c7603dc",
   "metadata": {},
   "source": [
    "# One-Sample t-Test"
   ]
  },
  {
   "cell_type": "markdown",
   "id": "c30bf646",
   "metadata": {},
   "source": [
    "# https://www.geeksforgeeks.org/z-test/"
   ]
  },
  {
   "cell_type": "markdown",
   "id": "347cb15e",
   "metadata": {},
   "source": [
    "# https://www.geeksforgeeks.org/t-test/"
   ]
  },
  {
   "cell_type": "markdown",
   "id": "484ebded",
   "metadata": {},
   "source": [
    "# 2 sample test "
   ]
  },
  {
   "cell_type": "markdown",
   "id": "da2ef6f1",
   "metadata": {},
   "source": [
    "# Paired samples (also called dependent samples) are samples in which natural or matched couplings occur. This generates a data set in which each data point in one sample is uniquely paired to a data point in the second sample."
   ]
  },
  {
   "cell_type": "markdown",
   "id": "04571108",
   "metadata": {},
   "source": [
    "# chi squred test\n",
    "# https://medium.com/geekculture/00-machine-learning-notes-chi-squared-test-d9e64542cce0"
   ]
  },
  {
   "cell_type": "markdown",
   "id": "4b8804e6",
   "metadata": {},
   "source": [
    "# https://www.geeksforgeeks.org/python-pearsons-chi-square-test/"
   ]
  },
  {
   "cell_type": "markdown",
   "id": "acf81dc2",
   "metadata": {},
   "source": [
    "# one way annova test"
   ]
  },
  {
   "cell_type": "markdown",
   "id": "0a9c7018",
   "metadata": {},
   "source": [
    "# https://www.geeksforgeeks.org/one-way-anova/"
   ]
  },
  {
   "cell_type": "code",
   "execution_count": null,
   "id": "02924fca",
   "metadata": {},
   "outputs": [],
   "source": []
  }
 ],
 "metadata": {
  "kernelspec": {
   "display_name": "Python 3",
   "language": "python",
   "name": "python3"
  },
  "language_info": {
   "codemirror_mode": {
    "name": "ipython",
    "version": 3
   },
   "file_extension": ".py",
   "mimetype": "text/x-python",
   "name": "python",
   "nbconvert_exporter": "python",
   "pygments_lexer": "ipython3",
   "version": "3.8.8"
  }
 },
 "nbformat": 4,
 "nbformat_minor": 5
}
