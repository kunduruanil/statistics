{
 "cells": [
  {
   "cell_type": "markdown",
   "id": "afc5ce74",
   "metadata": {},
   "source": [
    "# data types\n",
    "\n",
    "# 1. Discrete Data, as the name suggests, can take only specified values. For example, when you roll a die, the possible outcomes are 1, 2, 3, 4, 5 or 6 and not 1.5 or 2.45.(probability mass function)\n",
    "\n",
    "\n",
    "# 2. Continuous Data can take any value within a given range. The range may be finite or infinite. For example, A girl’s weight or height, the length of the road. The weight of a girl can be any value from 54 kgs, or 54.5 kgs, or 54.5436kgs.(probability density function)"
   ]
  },
  {
   "cell_type": "markdown",
   "id": "055660a4",
   "metadata": {},
   "source": [
    "# Types of Distributions"
   ]
  },
  {
   "cell_type": "markdown",
   "id": "987dcca2",
   "metadata": {},
   "source": [
    "# https://www.analyticsvidhya.com/blog/2017/09/6-probability-distributions-data-science/"
   ]
  },
  {
   "cell_type": "markdown",
   "id": "3694c237",
   "metadata": {},
   "source": [
    "# Binomial VS Bernoulli "
   ]
  },
  {
   "cell_type": "markdown",
   "id": "465cddbb",
   "metadata": {},
   "source": [
    "# Bernoulli deals with the outcome of the single trial of the event, whereas \n",
    "# Binomial deals with the outcome of the multiple trials of the single event.\n",
    "# Bernoulli is used when the outcome of an event is required for only one time, whereas the Binomial is used when the outcome of an event is required multiple times."
   ]
  },
  {
   "cell_type": "markdown",
   "id": "68d6432f",
   "metadata": {},
   "source": [
    "# example: in a final cricket match winning a team in a series is bernoulli\n",
    "# where as in a league match wining 2/3 will win a series is binomial"
   ]
  },
  {
   "cell_type": "markdown",
   "id": "fb1f3f54",
   "metadata": {},
   "source": [
    "# https://medium.com/swlh/binomial-vs-bernoulli-distribution-dd9197c418d"
   ]
  },
  {
   "cell_type": "markdown",
   "id": "2efe1ece",
   "metadata": {},
   "source": [
    "# Normal Distribution is for continues outcum"
   ]
  },
  {
   "cell_type": "markdown",
   "id": "4cf45c3e",
   "metadata": {},
   "source": [
    "#  following characteristics:\n",
    "\n",
    "# The mean, median and mode of the distribution coincide.\n",
    "# The curve of the distribution is bell-shaped and symmetrical about the line x=μ.\n",
    "# The total area under the curve is 1.\n",
    "# Exactly half of the values are to the left of the center and the other half to the right."
   ]
  },
  {
   "cell_type": "markdown",
   "id": "274b63df",
   "metadata": {},
   "source": [
    "# Mean -> E(X) = µ\n",
    "\n",
    "# Variance -> Var(X) = σ^2"
   ]
  },
  {
   "cell_type": "markdown",
   "id": "ea4be78e",
   "metadata": {},
   "source": [
    "# Poisson Distribution"
   ]
  },
  {
   "cell_type": "markdown",
   "id": "71c629bd",
   "metadata": {},
   "source": [
    "# examples are\n",
    "\n",
    "# The number of emergency calls recorded at a hospital in a day.\n",
    "# The number of thefts reported in an area on a day.\n",
    "# The number of customers arriving at a salon in an hour.\n",
    "# The number of suicides reported in a particular city.\n",
    "# The number of printing errors at each page of the book."
   ]
  },
  {
   "cell_type": "code",
   "execution_count": null,
   "id": "a34d05a6",
   "metadata": {},
   "outputs": [],
   "source": []
  }
 ],
 "metadata": {
  "kernelspec": {
   "display_name": "Python 3",
   "language": "python",
   "name": "python3"
  },
  "language_info": {
   "codemirror_mode": {
    "name": "ipython",
    "version": 3
   },
   "file_extension": ".py",
   "mimetype": "text/x-python",
   "name": "python",
   "nbconvert_exporter": "python",
   "pygments_lexer": "ipython3",
   "version": "3.8.8"
  }
 },
 "nbformat": 4,
 "nbformat_minor": 5
}
